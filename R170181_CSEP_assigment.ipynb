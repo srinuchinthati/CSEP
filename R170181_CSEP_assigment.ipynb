{
 "cells": [
  {
   "cell_type": "markdown",
   "id": "1a66ec10",
   "metadata": {},
   "source": [
    "1. Factorial"
   ]
  },
  {
   "cell_type": "code",
   "execution_count": 1,
   "id": "1232de60",
   "metadata": {},
   "outputs": [],
   "source": [
    "def fact(n):\n",
    "    if n <= 1:\n",
    "        return 1\n",
    "    else:\n",
    "        return n*fact(n-1)"
   ]
  },
  {
   "cell_type": "code",
   "execution_count": 2,
   "id": "32074753",
   "metadata": {},
   "outputs": [
    {
     "data": {
      "text/plain": [
       "40320"
      ]
     },
     "execution_count": 2,
     "metadata": {},
     "output_type": "execute_result"
    }
   ],
   "source": [
    "fact(8)"
   ]
  },
  {
   "cell_type": "markdown",
   "id": "3f772c6b",
   "metadata": {},
   "source": [
    "2. Anagram"
   ]
  },
  {
   "cell_type": "code",
   "execution_count": 3,
   "id": "c73bb428",
   "metadata": {},
   "outputs": [],
   "source": [
    "def anagram(str1, str2):\n",
    "    if sorted(str1.lower()) == sorted(str2.lower()):\n",
    "        return True\n",
    "    else:\n",
    "        return False"
   ]
  },
  {
   "cell_type": "code",
   "execution_count": 4,
   "id": "2d9d0864",
   "metadata": {},
   "outputs": [
    {
     "data": {
      "text/plain": [
       "True"
      ]
     },
     "execution_count": 4,
     "metadata": {},
     "output_type": "execute_result"
    }
   ],
   "source": [
    "anagram('angel','angle')"
   ]
  },
  {
   "cell_type": "markdown",
   "id": "58d2b9fa",
   "metadata": {},
   "source": [
    "3. CI recursion"
   ]
  },
  {
   "cell_type": "code",
   "execution_count": 1,
   "id": "531e5a2b",
   "metadata": {},
   "outputs": [],
   "source": [
    "def compundInterest(p, r, t):\n",
    "    if t>0:        \n",
    "        while(t>0):\n",
    "            p = p*(1+r/100)\n",
    "            t-=1\n",
    "            return compundInterest(p, r, t)\n",
    "    else:\n",
    "        return p"
   ]
  },
  {
   "cell_type": "code",
   "execution_count": 2,
   "id": "f8c08d10",
   "metadata": {},
   "outputs": [
    {
     "data": {
      "text/plain": [
       "3138.4283767210018"
      ]
     },
     "execution_count": 2,
     "metadata": {},
     "output_type": "execute_result"
    }
   ],
   "source": [
    "compundInterest(1000, 10, 12)"
   ]
  },
  {
   "cell_type": "markdown",
   "id": "8a0f9303",
   "metadata": {},
   "source": [
    "4. Binary Search"
   ]
  },
  {
   "cell_type": "code",
   "execution_count": 9,
   "id": "9d969233",
   "metadata": {},
   "outputs": [],
   "source": [
    "def binarySearch(a,k):\n",
    "    a.sort()\n",
    "    l = 0\n",
    "    r = len(a)-1\n",
    "    while (l<r):\n",
    "        mid = (l+r)//2\n",
    "        if a[mid] == k:\n",
    "            return f'{k} found at {mid} index'\n",
    "        elif a[mid] < k:\n",
    "            l = mid+1\n",
    "        else:\n",
    "            r = mid+1\n",
    "    return f'{k} is not found'       "
   ]
  },
  {
   "cell_type": "code",
   "execution_count": 10,
   "id": "bf65e92f",
   "metadata": {},
   "outputs": [
    {
     "data": {
      "text/plain": [
       "'59 found at 6 index'"
      ]
     },
     "execution_count": 10,
     "metadata": {},
     "output_type": "execute_result"
    }
   ],
   "source": [
    "arr = [12, 9, 17, 23, 25, 45, 59, 63, 71, 89]\n",
    "binarySearch(arr,59)"
   ]
  }
 ],
 "metadata": {
  "kernelspec": {
   "display_name": "Python 3 (ipykernel)",
   "language": "python",
   "name": "python3"
  },
  "language_info": {
   "codemirror_mode": {
    "name": "ipython",
    "version": 3
   },
   "file_extension": ".py",
   "mimetype": "text/x-python",
   "name": "python",
   "nbconvert_exporter": "python",
   "pygments_lexer": "ipython3",
   "version": "3.9.7"
  }
 },
 "nbformat": 4,
 "nbformat_minor": 5
}
